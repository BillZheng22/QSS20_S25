{
 "cells": [
  {
   "cell_type": "markdown",
   "metadata": {},
   "source": [
    "## 0. Load imports "
   ]
  },
  {
   "cell_type": "code",
   "execution_count": 1,
   "metadata": {},
   "outputs": [],
   "source": [
    "## imports\n",
    "import pandas as pd\n",
    "import numpy as np\n",
    "\n",
    "\n",
    "## print multiple things from same cell\n",
    "from IPython.core.interactiveshell import InteractiveShell\n",
    "InteractiveShell.ast_node_interactivity = \"all\""
   ]
  },
  {
   "cell_type": "markdown",
   "metadata": {},
   "source": [
    "## 0. Load data"
   ]
  },
  {
   "cell_type": "code",
   "execution_count": 2,
   "metadata": {
    "collapsed": true
   },
   "outputs": [
    {
     "data": {
      "text/html": [
       "<div>\n",
       "<style scoped>\n",
       "    .dataframe tbody tr th:only-of-type {\n",
       "        vertical-align: middle;\n",
       "    }\n",
       "\n",
       "    .dataframe tbody tr th {\n",
       "        vertical-align: top;\n",
       "    }\n",
       "\n",
       "    .dataframe thead th {\n",
       "        text-align: right;\n",
       "    }\n",
       "</style>\n",
       "<table border=\"1\" class=\"dataframe\">\n",
       "  <thead>\n",
       "    <tr style=\"text-align: right;\">\n",
       "      <th></th>\n",
       "      <th>X</th>\n",
       "      <th>Y</th>\n",
       "      <th>CCN</th>\n",
       "      <th>REPORT_DAT</th>\n",
       "      <th>SHIFT</th>\n",
       "      <th>METHOD</th>\n",
       "      <th>OFFENSE</th>\n",
       "      <th>BLOCK</th>\n",
       "      <th>XBLOCK</th>\n",
       "      <th>YBLOCK</th>\n",
       "      <th>...</th>\n",
       "      <th>BLOCK_GROUP</th>\n",
       "      <th>CENSUS_TRACT</th>\n",
       "      <th>VOTING_PRECINCT</th>\n",
       "      <th>LATITUDE</th>\n",
       "      <th>LONGITUDE</th>\n",
       "      <th>BID</th>\n",
       "      <th>START_DATE</th>\n",
       "      <th>END_DATE</th>\n",
       "      <th>OBJECTID</th>\n",
       "      <th>OCTO_RECORD_ID</th>\n",
       "    </tr>\n",
       "  </thead>\n",
       "  <tbody>\n",
       "    <tr>\n",
       "      <th>0</th>\n",
       "      <td>-76.987540</td>\n",
       "      <td>38.903968</td>\n",
       "      <td>20008120</td>\n",
       "      <td>2020/01/14 15:49:55+00</td>\n",
       "      <td>DAY</td>\n",
       "      <td>OTHERS</td>\n",
       "      <td>THEFT F/AUTO</td>\n",
       "      <td>1200 - 1299 BLOCK OF NEAL STREET NE</td>\n",
       "      <td>401081.0</td>\n",
       "      <td>137345.0</td>\n",
       "      <td>...</td>\n",
       "      <td>008802 3</td>\n",
       "      <td>8802.0</td>\n",
       "      <td>Precinct 77</td>\n",
       "      <td>38.903960</td>\n",
       "      <td>-76.987537</td>\n",
       "      <td>NaN</td>\n",
       "      <td>2020/01/14 15:04:04+00</td>\n",
       "      <td>NaN</td>\n",
       "      <td>673713315</td>\n",
       "      <td>NaN</td>\n",
       "    </tr>\n",
       "    <tr>\n",
       "      <th>1</th>\n",
       "      <td>-77.004840</td>\n",
       "      <td>38.833739</td>\n",
       "      <td>20008192</td>\n",
       "      <td>2020/01/14 19:43:04+00</td>\n",
       "      <td>DAY</td>\n",
       "      <td>GUN</td>\n",
       "      <td>ASSAULT W/DANGEROUS WEAPON</td>\n",
       "      <td>100 - 165 BLOCK OF MISSISSIPPI AVENUE SE</td>\n",
       "      <td>399580.0</td>\n",
       "      <td>129549.0</td>\n",
       "      <td>...</td>\n",
       "      <td>009803 3</td>\n",
       "      <td>9803.0</td>\n",
       "      <td>Precinct 124</td>\n",
       "      <td>38.833731</td>\n",
       "      <td>-77.004837</td>\n",
       "      <td>NaN</td>\n",
       "      <td>2020/01/14 17:17:37+00</td>\n",
       "      <td>NaN</td>\n",
       "      <td>673713316</td>\n",
       "      <td>NaN</td>\n",
       "    </tr>\n",
       "    <tr>\n",
       "      <th>2</th>\n",
       "      <td>-76.999472</td>\n",
       "      <td>38.907644</td>\n",
       "      <td>20008246</td>\n",
       "      <td>2020/01/14 20:09:52+00</td>\n",
       "      <td>EVENING</td>\n",
       "      <td>OTHERS</td>\n",
       "      <td>THEFT/OTHER</td>\n",
       "      <td>400 - 499 BLOCK OF MORSE STREET NE</td>\n",
       "      <td>400046.0</td>\n",
       "      <td>137753.0</td>\n",
       "      <td>...</td>\n",
       "      <td>008803 2</td>\n",
       "      <td>8803.0</td>\n",
       "      <td>Precinct 76</td>\n",
       "      <td>38.907636</td>\n",
       "      <td>-76.999470</td>\n",
       "      <td>NaN</td>\n",
       "      <td>2020/01/10 23:00:00+00</td>\n",
       "      <td>2020/01/14 18:00:44+00</td>\n",
       "      <td>673713317</td>\n",
       "      <td>NaN</td>\n",
       "    </tr>\n",
       "    <tr>\n",
       "      <th>3</th>\n",
       "      <td>-76.982729</td>\n",
       "      <td>38.916480</td>\n",
       "      <td>20008501</td>\n",
       "      <td>2020/01/15 03:28:53+00</td>\n",
       "      <td>EVENING</td>\n",
       "      <td>OTHERS</td>\n",
       "      <td>THEFT/OTHER</td>\n",
       "      <td>1500 - 1599 BLOCK OF NEW YORK AVENUE NE</td>\n",
       "      <td>401498.0</td>\n",
       "      <td>138734.0</td>\n",
       "      <td>...</td>\n",
       "      <td>008803 1</td>\n",
       "      <td>8803.0</td>\n",
       "      <td>Precinct 76</td>\n",
       "      <td>38.916472</td>\n",
       "      <td>-76.982727</td>\n",
       "      <td>NaN</td>\n",
       "      <td>2020/01/15 02:31:24+00</td>\n",
       "      <td>NaN</td>\n",
       "      <td>673713318</td>\n",
       "      <td>NaN</td>\n",
       "    </tr>\n",
       "    <tr>\n",
       "      <th>4</th>\n",
       "      <td>-76.980077</td>\n",
       "      <td>38.917191</td>\n",
       "      <td>20009148</td>\n",
       "      <td>2020/01/16 04:12:47+00</td>\n",
       "      <td>MIDNIGHT</td>\n",
       "      <td>OTHERS</td>\n",
       "      <td>THEFT/OTHER</td>\n",
       "      <td>1600 - 1779 BLOCK OF NEW YORK AVENUE NE</td>\n",
       "      <td>401728.0</td>\n",
       "      <td>138813.0</td>\n",
       "      <td>...</td>\n",
       "      <td>008803 1</td>\n",
       "      <td>8803.0</td>\n",
       "      <td>Precinct 76</td>\n",
       "      <td>38.917184</td>\n",
       "      <td>-76.980074</td>\n",
       "      <td>NaN</td>\n",
       "      <td>2020/01/16 01:15:36+00</td>\n",
       "      <td>2020/01/16 01:19:54+00</td>\n",
       "      <td>673713319</td>\n",
       "      <td>NaN</td>\n",
       "    </tr>\n",
       "  </tbody>\n",
       "</table>\n",
       "<p>5 rows × 25 columns</p>\n",
       "</div>"
      ],
      "text/plain": [
       "           X          Y       CCN              REPORT_DAT     SHIFT  METHOD  \\\n",
       "0 -76.987540  38.903968  20008120  2020/01/14 15:49:55+00       DAY  OTHERS   \n",
       "1 -77.004840  38.833739  20008192  2020/01/14 19:43:04+00       DAY     GUN   \n",
       "2 -76.999472  38.907644  20008246  2020/01/14 20:09:52+00   EVENING  OTHERS   \n",
       "3 -76.982729  38.916480  20008501  2020/01/15 03:28:53+00   EVENING  OTHERS   \n",
       "4 -76.980077  38.917191  20009148  2020/01/16 04:12:47+00  MIDNIGHT  OTHERS   \n",
       "\n",
       "                      OFFENSE                                     BLOCK  \\\n",
       "0                THEFT F/AUTO       1200 - 1299 BLOCK OF NEAL STREET NE   \n",
       "1  ASSAULT W/DANGEROUS WEAPON  100 - 165 BLOCK OF MISSISSIPPI AVENUE SE   \n",
       "2                 THEFT/OTHER        400 - 499 BLOCK OF MORSE STREET NE   \n",
       "3                 THEFT/OTHER   1500 - 1599 BLOCK OF NEW YORK AVENUE NE   \n",
       "4                 THEFT/OTHER   1600 - 1779 BLOCK OF NEW YORK AVENUE NE   \n",
       "\n",
       "     XBLOCK    YBLOCK  ...  BLOCK_GROUP CENSUS_TRACT  VOTING_PRECINCT  \\\n",
       "0  401081.0  137345.0  ...     008802 3       8802.0      Precinct 77   \n",
       "1  399580.0  129549.0  ...     009803 3       9803.0     Precinct 124   \n",
       "2  400046.0  137753.0  ...     008803 2       8803.0      Precinct 76   \n",
       "3  401498.0  138734.0  ...     008803 1       8803.0      Precinct 76   \n",
       "4  401728.0  138813.0  ...     008803 1       8803.0      Precinct 76   \n",
       "\n",
       "    LATITUDE  LONGITUDE  BID              START_DATE                END_DATE  \\\n",
       "0  38.903960 -76.987537  NaN  2020/01/14 15:04:04+00                     NaN   \n",
       "1  38.833731 -77.004837  NaN  2020/01/14 17:17:37+00                     NaN   \n",
       "2  38.907636 -76.999470  NaN  2020/01/10 23:00:00+00  2020/01/14 18:00:44+00   \n",
       "3  38.916472 -76.982727  NaN  2020/01/15 02:31:24+00                     NaN   \n",
       "4  38.917184 -76.980074  NaN  2020/01/16 01:15:36+00  2020/01/16 01:19:54+00   \n",
       "\n",
       "    OBJECTID  OCTO_RECORD_ID  \n",
       "0  673713315             NaN  \n",
       "1  673713316             NaN  \n",
       "2  673713317             NaN  \n",
       "3  673713318             NaN  \n",
       "4  673713319             NaN  \n",
       "\n",
       "[5 rows x 25 columns]"
      ]
     },
     "execution_count": 2,
     "metadata": {},
     "output_type": "execute_result"
    },
    {
     "data": {
      "text/plain": [
       "(27931, 25)"
      ]
     },
     "execution_count": 2,
     "metadata": {},
     "output_type": "execute_result"
    },
    {
     "name": "stdout",
     "output_type": "stream",
     "text": [
      "<class 'pandas.core.frame.DataFrame'>\n",
      "RangeIndex: 27931 entries, 0 to 27930\n",
      "Data columns (total 25 columns):\n",
      " #   Column                Non-Null Count  Dtype  \n",
      "---  ------                --------------  -----  \n",
      " 0   X                     27931 non-null  float64\n",
      " 1   Y                     27931 non-null  float64\n",
      " 2   CCN                   27931 non-null  int64  \n",
      " 3   REPORT_DAT            27931 non-null  object \n",
      " 4   SHIFT                 27931 non-null  object \n",
      " 5   METHOD                27931 non-null  object \n",
      " 6   OFFENSE               27931 non-null  object \n",
      " 7   BLOCK                 27931 non-null  object \n",
      " 8   XBLOCK                27931 non-null  float64\n",
      " 9   YBLOCK                27931 non-null  float64\n",
      " 10  WARD                  27931 non-null  int64  \n",
      " 11  ANC                   27931 non-null  object \n",
      " 12  DISTRICT              27902 non-null  float64\n",
      " 13  PSA                   27896 non-null  float64\n",
      " 14  NEIGHBORHOOD_CLUSTER  27931 non-null  object \n",
      " 15  BLOCK_GROUP           27930 non-null  object \n",
      " 16  CENSUS_TRACT          27930 non-null  float64\n",
      " 17  VOTING_PRECINCT       27931 non-null  object \n",
      " 18  LATITUDE              27931 non-null  float64\n",
      " 19  LONGITUDE             27931 non-null  float64\n",
      " 20  BID                   4658 non-null   object \n",
      " 21  START_DATE            27931 non-null  object \n",
      " 22  END_DATE              24850 non-null  object \n",
      " 23  OBJECTID              27931 non-null  int64  \n",
      " 24  OCTO_RECORD_ID        0 non-null      float64\n",
      "dtypes: float64(10), int64(3), object(12)\n",
      "memory usage: 5.3+ MB\n"
     ]
    }
   ],
   "source": [
    "## load data on 2020 crimes in DC\n",
    "df = dc_crim_2020 = pd.read_csv(\"https://opendata.arcgis.com/datasets/f516e0dd7b614b088ad781b0c4002331_2.csv\")\n",
    "dc_crim_2020.head()\n",
    "dc_crim_2020.shape\n",
    "dc_crim_2020.info()\n"
   ]
  },
  {
   "cell_type": "code",
   "execution_count": 22,
   "metadata": {},
   "outputs": [
    {
     "data": {
      "text/plain": [
       "9"
      ]
     },
     "execution_count": 22,
     "metadata": {},
     "output_type": "execute_result"
    }
   ],
   "source": [
    "df[\"OFFENSE\"].nunique()"
   ]
  },
  {
   "cell_type": "code",
   "execution_count": 26,
   "metadata": {},
   "outputs": [
    {
     "data": {
      "text/plain": [
       "9"
      ]
     },
     "execution_count": 26,
     "metadata": {},
     "output_type": "execute_result"
    }
   ],
   "source": [
    "for i, sub_df in df.groupby(\"WARD\"):\n",
    "    break\n",
    "\n",
    "sub_df.OFFENSE.nunique()"
   ]
  },
  {
   "cell_type": "code",
   "execution_count": 23,
   "metadata": {},
   "outputs": [
    {
     "data": {
      "text/plain": [
       "<pandas.core.groupby.generic.DataFrameGroupBy object at 0x7fef6b10b280>"
      ]
     },
     "execution_count": 23,
     "metadata": {},
     "output_type": "execute_result"
    }
   ],
   "source": [
    "df.groupby(\"WARD\")"
   ]
  },
  {
   "cell_type": "code",
   "execution_count": null,
   "metadata": {},
   "outputs": [],
   "source": []
  },
  {
   "cell_type": "markdown",
   "metadata": {},
   "source": [
    "#### Warm-up: Ways to add 100 to column X"
   ]
  },
  {
   "cell_type": "code",
   "execution_count": null,
   "metadata": {},
   "outputs": [],
   "source": []
  },
  {
   "cell_type": "code",
   "execution_count": 28,
   "metadata": {},
   "outputs": [
    {
     "data": {
      "text/plain": [
       "0        23.012460\n",
       "1        22.995160\n",
       "2        23.000528\n",
       "3        23.017271\n",
       "4        23.019923\n",
       "           ...    \n",
       "27926    22.900569\n",
       "27927    23.005634\n",
       "27928    23.029624\n",
       "27929    22.940778\n",
       "27930    22.970368\n",
       "Name: X, Length: 27931, dtype: float64"
      ]
     },
     "execution_count": 28,
     "metadata": {},
     "output_type": "execute_result"
    }
   ],
   "source": [
    "df.X + 100"
   ]
  },
  {
   "cell_type": "code",
   "execution_count": 33,
   "metadata": {},
   "outputs": [
    {
     "data": {
      "text/plain": [
       "115"
      ]
     },
     "execution_count": 33,
     "metadata": {},
     "output_type": "execute_result"
    }
   ],
   "source": [
    "add_100_v2 = lambda x,y: x + 100 + y\n",
    "add_100_v2(5, 10)"
   ]
  },
  {
   "cell_type": "code",
   "execution_count": 36,
   "metadata": {
    "collapsed": true
   },
   "outputs": [
    {
     "data": {
      "text/plain": [
       "0        23.012460\n",
       "1        22.995160\n",
       "2        23.000528\n",
       "3        23.017271\n",
       "4        23.019923\n",
       "           ...    \n",
       "27926    22.900569\n",
       "27927    23.005634\n",
       "27928    23.029624\n",
       "27929    22.940778\n",
       "27930    22.970368\n",
       "Name: X, Length: 27931, dtype: float64"
      ]
     },
     "execution_count": 36,
     "metadata": {},
     "output_type": "execute_result"
    }
   ],
   "source": [
    "def add_100(x):\n",
    "    return x+100\n",
    "\n",
    "df.X.apply(add_100)"
   ]
  },
  {
   "cell_type": "code",
   "execution_count": 14,
   "metadata": {},
   "outputs": [
    {
     "name": "stdout",
     "output_type": "stream",
     "text": [
      "CPU times: user 1.78 ms, sys: 1.99 ms, total: 3.77 ms\n",
      "Wall time: 2.35 ms\n"
     ]
    },
    {
     "data": {
      "text/plain": [
       "-77.00704943937147"
      ]
     },
     "execution_count": 14,
     "metadata": {},
     "output_type": "execute_result"
    }
   ],
   "source": [
    "%%time\n",
    "\n",
    "df[\"X\"].mean()"
   ]
  },
  {
   "cell_type": "code",
   "execution_count": 7,
   "metadata": {},
   "outputs": [
    {
     "data": {
      "text/plain": [
       "-77.00704943937147"
      ]
     },
     "execution_count": 7,
     "metadata": {},
     "output_type": "execute_result"
    }
   ],
   "source": [
    "df.X.mean()"
   ]
  },
  {
   "cell_type": "code",
   "execution_count": 10,
   "metadata": {},
   "outputs": [
    {
     "data": {
      "text/plain": [
       "mean   -77.007049\n",
       "Name: X, dtype: float64"
      ]
     },
     "execution_count": 10,
     "metadata": {},
     "output_type": "execute_result"
    }
   ],
   "source": [
    "df.X.agg([\"mean\"])"
   ]
  },
  {
   "cell_type": "code",
   "execution_count": 15,
   "metadata": {},
   "outputs": [
    {
     "name": "stdout",
     "output_type": "stream",
     "text": [
      "CPU times: user 9.7 ms, sys: 619 µs, total: 10.3 ms\n",
      "Wall time: 12.7 ms\n"
     ]
    },
    {
     "data": {
      "text/plain": [
       "-77.00704943937163"
      ]
     },
     "execution_count": 15,
     "metadata": {},
     "output_type": "execute_result"
    }
   ],
   "source": [
    "%%time\n",
    "\n",
    "running_sum = 0\n",
    "for x in df.X:\n",
    "    running_sum += x\n",
    "    \n",
    "running_sum / df.X.shape[0]"
   ]
  },
  {
   "cell_type": "code",
   "execution_count": 40,
   "metadata": {},
   "outputs": [
    {
     "data": {
      "text/plain": [
       "'a#:)# b#:)# c'"
      ]
     },
     "execution_count": 40,
     "metadata": {},
     "output_type": "execute_result"
    }
   ],
   "source": [
    "\"#:)# \".join([\"a\",\"b\",\"c\"])"
   ]
  },
  {
   "cell_type": "code",
   "execution_count": null,
   "metadata": {},
   "outputs": [],
   "source": []
  },
  {
   "cell_type": "markdown",
   "metadata": {},
   "source": [
    "## 1. Aggregation"
   ]
  },
  {
   "cell_type": "markdown",
   "metadata": {},
   "source": [
    "### Example of grouping by one variable and doing one aggregation \n",
    "\n",
    "**Task**: find and print the number of unique offense types (`OFFENSE`) by ward (`WARD`)"
   ]
  },
  {
   "cell_type": "code",
   "execution_count": 3,
   "metadata": {},
   "outputs": [
    {
     "data": {
      "text/html": [
       "<div>\n",
       "<style scoped>\n",
       "    .dataframe tbody tr th:only-of-type {\n",
       "        vertical-align: middle;\n",
       "    }\n",
       "\n",
       "    .dataframe tbody tr th {\n",
       "        vertical-align: top;\n",
       "    }\n",
       "\n",
       "    .dataframe thead th {\n",
       "        text-align: right;\n",
       "    }\n",
       "</style>\n",
       "<table border=\"1\" class=\"dataframe\">\n",
       "  <thead>\n",
       "    <tr style=\"text-align: right;\">\n",
       "      <th></th>\n",
       "      <th>WARD</th>\n",
       "      <th>OFFENSE</th>\n",
       "    </tr>\n",
       "  </thead>\n",
       "  <tbody>\n",
       "    <tr>\n",
       "      <th>0</th>\n",
       "      <td>1</td>\n",
       "      <td>9</td>\n",
       "    </tr>\n",
       "    <tr>\n",
       "      <th>1</th>\n",
       "      <td>2</td>\n",
       "      <td>9</td>\n",
       "    </tr>\n",
       "    <tr>\n",
       "      <th>2</th>\n",
       "      <td>3</td>\n",
       "      <td>8</td>\n",
       "    </tr>\n",
       "    <tr>\n",
       "      <th>3</th>\n",
       "      <td>4</td>\n",
       "      <td>8</td>\n",
       "    </tr>\n",
       "    <tr>\n",
       "      <th>4</th>\n",
       "      <td>5</td>\n",
       "      <td>9</td>\n",
       "    </tr>\n",
       "    <tr>\n",
       "      <th>5</th>\n",
       "      <td>6</td>\n",
       "      <td>9</td>\n",
       "    </tr>\n",
       "    <tr>\n",
       "      <th>6</th>\n",
       "      <td>7</td>\n",
       "      <td>9</td>\n",
       "    </tr>\n",
       "    <tr>\n",
       "      <th>7</th>\n",
       "      <td>8</td>\n",
       "      <td>9</td>\n",
       "    </tr>\n",
       "  </tbody>\n",
       "</table>\n",
       "</div>"
      ],
      "text/plain": [
       "   WARD  OFFENSE\n",
       "0     1        9\n",
       "1     2        9\n",
       "2     3        8\n",
       "3     4        8\n",
       "4     5        9\n",
       "5     6        9\n",
       "6     7        9\n",
       "7     8        9"
      ]
     },
     "execution_count": 3,
     "metadata": {},
     "output_type": "execute_result"
    }
   ],
   "source": [
    "unique_offenses_by_ward = df.groupby(\"WARD\")[\"OFFENSE\"].nunique()\n",
    "unique_offenses_by_ward.reset_index()"
   ]
  },
  {
   "cell_type": "code",
   "execution_count": 4,
   "metadata": {
    "scrolled": true
   },
   "outputs": [
    {
     "data": {
      "text/html": [
       "<div>\n",
       "<style scoped>\n",
       "    .dataframe tbody tr th:only-of-type {\n",
       "        vertical-align: middle;\n",
       "    }\n",
       "\n",
       "    .dataframe tbody tr th {\n",
       "        vertical-align: top;\n",
       "    }\n",
       "\n",
       "    .dataframe thead th {\n",
       "        text-align: right;\n",
       "    }\n",
       "</style>\n",
       "<table border=\"1\" class=\"dataframe\">\n",
       "  <thead>\n",
       "    <tr style=\"text-align: right;\">\n",
       "      <th></th>\n",
       "      <th>WARD</th>\n",
       "      <th>OFFENSE</th>\n",
       "    </tr>\n",
       "  </thead>\n",
       "  <tbody>\n",
       "    <tr>\n",
       "      <th>0</th>\n",
       "      <td>1</td>\n",
       "      <td>9</td>\n",
       "    </tr>\n",
       "    <tr>\n",
       "      <th>1</th>\n",
       "      <td>2</td>\n",
       "      <td>9</td>\n",
       "    </tr>\n",
       "    <tr>\n",
       "      <th>2</th>\n",
       "      <td>3</td>\n",
       "      <td>8</td>\n",
       "    </tr>\n",
       "    <tr>\n",
       "      <th>3</th>\n",
       "      <td>4</td>\n",
       "      <td>8</td>\n",
       "    </tr>\n",
       "    <tr>\n",
       "      <th>4</th>\n",
       "      <td>5</td>\n",
       "      <td>9</td>\n",
       "    </tr>\n",
       "    <tr>\n",
       "      <th>5</th>\n",
       "      <td>6</td>\n",
       "      <td>9</td>\n",
       "    </tr>\n",
       "    <tr>\n",
       "      <th>6</th>\n",
       "      <td>7</td>\n",
       "      <td>9</td>\n",
       "    </tr>\n",
       "    <tr>\n",
       "      <th>7</th>\n",
       "      <td>8</td>\n",
       "      <td>9</td>\n",
       "    </tr>\n",
       "  </tbody>\n",
       "</table>\n",
       "</div>"
      ],
      "text/plain": [
       "   WARD  OFFENSE\n",
       "0     1        9\n",
       "1     2        9\n",
       "2     3        8\n",
       "3     4        8\n",
       "4     5        9\n",
       "5     6        9\n",
       "6     7        9\n",
       "7     8        9"
      ]
     },
     "execution_count": 4,
     "metadata": {},
     "output_type": "execute_result"
    }
   ],
   "source": [
    "df.groupby(\"WARD\").agg({\"OFFENSE\" : \"nunique\"}).reset_index()"
   ]
  },
  {
   "cell_type": "code",
   "execution_count": null,
   "metadata": {},
   "outputs": [],
   "source": []
  },
  {
   "cell_type": "code",
   "execution_count": null,
   "metadata": {},
   "outputs": [],
   "source": []
  },
  {
   "cell_type": "markdown",
   "metadata": {},
   "source": [
    "### Example of grouping by one variable and providing two summaries of the same variable\n",
    "\n",
    "**Task**: previous showed number of offenses by ward but want to find out content of offenses in each ward; create an aggregation that summarizes both the number of unique offenses by ward and what those offenses are -- for instance, by pasting the unique offenses in that ward separated by the \";\" (e.g., Theft; Burglary;...)\n",
    "\n",
    "*Hint*: you can use the join command to paste together a list separated by some delimiter. \n",
    "    - The syntax, if we are using the comma delimiter, is: \", \".join(nameoflist)"
   ]
  },
  {
   "cell_type": "code",
   "execution_count": 5,
   "metadata": {},
   "outputs": [],
   "source": [
    "ddf = unique_off_valuecount_byward = df.groupby(\"WARD\").agg(\n",
    "    {\"OFFENSE\":[\"nunique\", lambda x: \"; \".join(sorted(x.unique())\n",
    "                 )]}).reset_index()"
   ]
  },
  {
   "cell_type": "code",
   "execution_count": 6,
   "metadata": {},
   "outputs": [
    {
     "data": {
      "text/html": [
       "<div>\n",
       "<style scoped>\n",
       "    .dataframe tbody tr th:only-of-type {\n",
       "        vertical-align: middle;\n",
       "    }\n",
       "\n",
       "    .dataframe tbody tr th {\n",
       "        vertical-align: top;\n",
       "    }\n",
       "\n",
       "    .dataframe thead th {\n",
       "        text-align: right;\n",
       "    }\n",
       "</style>\n",
       "<table border=\"1\" class=\"dataframe\">\n",
       "  <thead>\n",
       "    <tr style=\"text-align: right;\">\n",
       "      <th></th>\n",
       "      <th>A</th>\n",
       "      <th>B</th>\n",
       "      <th>C</th>\n",
       "    </tr>\n",
       "  </thead>\n",
       "  <tbody>\n",
       "    <tr>\n",
       "      <th>0</th>\n",
       "      <td>1</td>\n",
       "      <td>9</td>\n",
       "      <td>ARSON; ASSAULT W/DANGEROUS WEAPON; BURGLARY; H...</td>\n",
       "    </tr>\n",
       "    <tr>\n",
       "      <th>1</th>\n",
       "      <td>2</td>\n",
       "      <td>9</td>\n",
       "      <td>ARSON; ASSAULT W/DANGEROUS WEAPON; BURGLARY; H...</td>\n",
       "    </tr>\n",
       "    <tr>\n",
       "      <th>2</th>\n",
       "      <td>3</td>\n",
       "      <td>8</td>\n",
       "      <td>ASSAULT W/DANGEROUS WEAPON; BURGLARY; HOMICIDE...</td>\n",
       "    </tr>\n",
       "    <tr>\n",
       "      <th>3</th>\n",
       "      <td>4</td>\n",
       "      <td>8</td>\n",
       "      <td>ASSAULT W/DANGEROUS WEAPON; BURGLARY; HOMICIDE...</td>\n",
       "    </tr>\n",
       "    <tr>\n",
       "      <th>4</th>\n",
       "      <td>5</td>\n",
       "      <td>9</td>\n",
       "      <td>ARSON; ASSAULT W/DANGEROUS WEAPON; BURGLARY; H...</td>\n",
       "    </tr>\n",
       "    <tr>\n",
       "      <th>5</th>\n",
       "      <td>6</td>\n",
       "      <td>9</td>\n",
       "      <td>ARSON; ASSAULT W/DANGEROUS WEAPON; BURGLARY; H...</td>\n",
       "    </tr>\n",
       "    <tr>\n",
       "      <th>6</th>\n",
       "      <td>7</td>\n",
       "      <td>9</td>\n",
       "      <td>ARSON; ASSAULT W/DANGEROUS WEAPON; BURGLARY; H...</td>\n",
       "    </tr>\n",
       "    <tr>\n",
       "      <th>7</th>\n",
       "      <td>8</td>\n",
       "      <td>9</td>\n",
       "      <td>ARSON; ASSAULT W/DANGEROUS WEAPON; BURGLARY; H...</td>\n",
       "    </tr>\n",
       "  </tbody>\n",
       "</table>\n",
       "</div>"
      ],
      "text/plain": [
       "   A  B                                                  C\n",
       "0  1  9  ARSON; ASSAULT W/DANGEROUS WEAPON; BURGLARY; H...\n",
       "1  2  9  ARSON; ASSAULT W/DANGEROUS WEAPON; BURGLARY; H...\n",
       "2  3  8  ASSAULT W/DANGEROUS WEAPON; BURGLARY; HOMICIDE...\n",
       "3  4  8  ASSAULT W/DANGEROUS WEAPON; BURGLARY; HOMICIDE...\n",
       "4  5  9  ARSON; ASSAULT W/DANGEROUS WEAPON; BURGLARY; H...\n",
       "5  6  9  ARSON; ASSAULT W/DANGEROUS WEAPON; BURGLARY; H...\n",
       "6  7  9  ARSON; ASSAULT W/DANGEROUS WEAPON; BURGLARY; H...\n",
       "7  8  9  ARSON; ASSAULT W/DANGEROUS WEAPON; BURGLARY; H..."
      ]
     },
     "execution_count": 6,
     "metadata": {},
     "output_type": "execute_result"
    }
   ],
   "source": [
    "unique_off_valuecount_byward.columns = [\"A\", \"B\", \"C\",]\n",
    "unique_off_valuecount_byward"
   ]
  },
  {
   "cell_type": "code",
   "execution_count": null,
   "metadata": {},
   "outputs": [],
   "source": []
  },
  {
   "cell_type": "code",
   "execution_count": 7,
   "metadata": {},
   "outputs": [],
   "source": [
    "unique_off_byward_type = df.groupby(\"WARD\").agg(\n",
    "    {\"OFFENSE\": [\"nunique\",\n",
    "                    lambda x: \"; \".join(sorted(x.unique())\n",
    "                   )]}).reset_index()"
   ]
  },
  {
   "cell_type": "code",
   "execution_count": 8,
   "metadata": {},
   "outputs": [
    {
     "data": {
      "text/html": [
       "<div>\n",
       "<style scoped>\n",
       "    .dataframe tbody tr th:only-of-type {\n",
       "        vertical-align: middle;\n",
       "    }\n",
       "\n",
       "    .dataframe tbody tr th {\n",
       "        vertical-align: top;\n",
       "    }\n",
       "\n",
       "    .dataframe thead th {\n",
       "        text-align: right;\n",
       "    }\n",
       "</style>\n",
       "<table border=\"1\" class=\"dataframe\">\n",
       "  <thead>\n",
       "    <tr style=\"text-align: right;\">\n",
       "      <th></th>\n",
       "      <th>WARD</th>\n",
       "      <th>offenses_by_ward</th>\n",
       "      <th>offense_list</th>\n",
       "    </tr>\n",
       "  </thead>\n",
       "  <tbody>\n",
       "    <tr>\n",
       "      <th>0</th>\n",
       "      <td>1</td>\n",
       "      <td>9</td>\n",
       "      <td>BURGLARY; THEFT F/AUTO; ROBBERY; THEFT F/AUTO;...</td>\n",
       "    </tr>\n",
       "    <tr>\n",
       "      <th>1</th>\n",
       "      <td>2</td>\n",
       "      <td>9</td>\n",
       "      <td>THEFT F/AUTO; THEFT/OTHER; THEFT/OTHER; THEFT ...</td>\n",
       "    </tr>\n",
       "    <tr>\n",
       "      <th>2</th>\n",
       "      <td>3</td>\n",
       "      <td>8</td>\n",
       "      <td>THEFT F/AUTO; THEFT F/AUTO; THEFT/OTHER; THEFT...</td>\n",
       "    </tr>\n",
       "    <tr>\n",
       "      <th>3</th>\n",
       "      <td>4</td>\n",
       "      <td>8</td>\n",
       "      <td>THEFT F/AUTO; BURGLARY; THEFT F/AUTO; THEFT/OT...</td>\n",
       "    </tr>\n",
       "    <tr>\n",
       "      <th>4</th>\n",
       "      <td>5</td>\n",
       "      <td>9</td>\n",
       "      <td>THEFT F/AUTO; THEFT/OTHER; THEFT/OTHER; THEFT/...</td>\n",
       "    </tr>\n",
       "    <tr>\n",
       "      <th>5</th>\n",
       "      <td>6</td>\n",
       "      <td>9</td>\n",
       "      <td>THEFT/OTHER; ROBBERY; THEFT/OTHER; THEFT/OTHER...</td>\n",
       "    </tr>\n",
       "    <tr>\n",
       "      <th>6</th>\n",
       "      <td>7</td>\n",
       "      <td>9</td>\n",
       "      <td>ROBBERY; THEFT/OTHER; THEFT F/AUTO; MOTOR VEHI...</td>\n",
       "    </tr>\n",
       "    <tr>\n",
       "      <th>7</th>\n",
       "      <td>8</td>\n",
       "      <td>9</td>\n",
       "      <td>ASSAULT W/DANGEROUS WEAPON; THEFT/OTHER; ASSAU...</td>\n",
       "    </tr>\n",
       "  </tbody>\n",
       "</table>\n",
       "</div>"
      ],
      "text/plain": [
       "   WARD  offenses_by_ward                                       offense_list\n",
       "0     1                 9  BURGLARY; THEFT F/AUTO; ROBBERY; THEFT F/AUTO;...\n",
       "1     2                 9  THEFT F/AUTO; THEFT/OTHER; THEFT/OTHER; THEFT ...\n",
       "2     3                 8  THEFT F/AUTO; THEFT F/AUTO; THEFT/OTHER; THEFT...\n",
       "3     4                 8  THEFT F/AUTO; BURGLARY; THEFT F/AUTO; THEFT/OT...\n",
       "4     5                 9  THEFT F/AUTO; THEFT/OTHER; THEFT/OTHER; THEFT/...\n",
       "5     6                 9  THEFT/OTHER; ROBBERY; THEFT/OTHER; THEFT/OTHER...\n",
       "6     7                 9  ROBBERY; THEFT/OTHER; THEFT F/AUTO; MOTOR VEHI...\n",
       "7     8                 9  ASSAULT W/DANGEROUS WEAPON; THEFT/OTHER; ASSAU..."
      ]
     },
     "execution_count": 8,
     "metadata": {},
     "output_type": "execute_result"
    }
   ],
   "source": [
    "df.groupby('WARD')['OFFENSE'].agg([\n",
    "    ('offenses_by_ward', lambda x: x.nunique()),\n",
    "    ('offense_list', lambda x: '; '.join(x))\n",
    "]).reset_index()\n"
   ]
  },
  {
   "cell_type": "code",
   "execution_count": 9,
   "metadata": {},
   "outputs": [
    {
     "data": {
      "text/html": [
       "<div>\n",
       "<style scoped>\n",
       "    .dataframe tbody tr th:only-of-type {\n",
       "        vertical-align: middle;\n",
       "    }\n",
       "\n",
       "    .dataframe tbody tr th {\n",
       "        vertical-align: top;\n",
       "    }\n",
       "\n",
       "    .dataframe thead th {\n",
       "        text-align: right;\n",
       "    }\n",
       "</style>\n",
       "<table border=\"1\" class=\"dataframe\">\n",
       "  <thead>\n",
       "    <tr style=\"text-align: right;\">\n",
       "      <th></th>\n",
       "      <th>task1</th>\n",
       "      <th>offenses_list</th>\n",
       "    </tr>\n",
       "    <tr>\n",
       "      <th>WARD</th>\n",
       "      <th></th>\n",
       "      <th></th>\n",
       "    </tr>\n",
       "  </thead>\n",
       "  <tbody>\n",
       "    <tr>\n",
       "      <th>1</th>\n",
       "      <td>9</td>\n",
       "      <td>BURGLARY, THEFT F/AUTO, ROBBERY, THEFT/OTHER, ...</td>\n",
       "    </tr>\n",
       "    <tr>\n",
       "      <th>2</th>\n",
       "      <td>9</td>\n",
       "      <td>THEFT F/AUTO, THEFT/OTHER, BURGLARY, HOMICIDE,...</td>\n",
       "    </tr>\n",
       "    <tr>\n",
       "      <th>3</th>\n",
       "      <td>8</td>\n",
       "      <td>THEFT F/AUTO, THEFT/OTHER, BURGLARY, MOTOR VEH...</td>\n",
       "    </tr>\n",
       "    <tr>\n",
       "      <th>4</th>\n",
       "      <td>8</td>\n",
       "      <td>THEFT F/AUTO, BURGLARY, THEFT/OTHER, MOTOR VEH...</td>\n",
       "    </tr>\n",
       "    <tr>\n",
       "      <th>5</th>\n",
       "      <td>9</td>\n",
       "      <td>THEFT F/AUTO, THEFT/OTHER, MOTOR VEHICLE THEFT...</td>\n",
       "    </tr>\n",
       "    <tr>\n",
       "      <th>6</th>\n",
       "      <td>9</td>\n",
       "      <td>THEFT/OTHER, ROBBERY, MOTOR VEHICLE THEFT, THE...</td>\n",
       "    </tr>\n",
       "    <tr>\n",
       "      <th>7</th>\n",
       "      <td>9</td>\n",
       "      <td>ROBBERY, THEFT/OTHER, THEFT F/AUTO, MOTOR VEHI...</td>\n",
       "    </tr>\n",
       "    <tr>\n",
       "      <th>8</th>\n",
       "      <td>9</td>\n",
       "      <td>ASSAULT W/DANGEROUS WEAPON, THEFT/OTHER, THEFT...</td>\n",
       "    </tr>\n",
       "  </tbody>\n",
       "</table>\n",
       "</div>"
      ],
      "text/plain": [
       "      task1                                      offenses_list\n",
       "WARD                                                          \n",
       "1         9  BURGLARY, THEFT F/AUTO, ROBBERY, THEFT/OTHER, ...\n",
       "2         9  THEFT F/AUTO, THEFT/OTHER, BURGLARY, HOMICIDE,...\n",
       "3         8  THEFT F/AUTO, THEFT/OTHER, BURGLARY, MOTOR VEH...\n",
       "4         8  THEFT F/AUTO, BURGLARY, THEFT/OTHER, MOTOR VEH...\n",
       "5         9  THEFT F/AUTO, THEFT/OTHER, MOTOR VEHICLE THEFT...\n",
       "6         9  THEFT/OTHER, ROBBERY, MOTOR VEHICLE THEFT, THE...\n",
       "7         9  ROBBERY, THEFT/OTHER, THEFT F/AUTO, MOTOR VEHI...\n",
       "8         9  ASSAULT W/DANGEROUS WEAPON, THEFT/OTHER, THEFT..."
      ]
     },
     "execution_count": 9,
     "metadata": {},
     "output_type": "execute_result"
    }
   ],
   "source": [
    "dc_crim_2020.groupby(\"WARD\")[\"OFFENSE\"].agg(\n",
    "    task1=\"nunique\",\n",
    "    offenses_list=lambda x: \", \".join(x.unique())\n",
    ")"
   ]
  },
  {
   "cell_type": "code",
   "execution_count": null,
   "metadata": {},
   "outputs": [],
   "source": []
  },
  {
   "cell_type": "markdown",
   "metadata": {},
   "source": [
    "### Example of grouping by two variables \n",
    "\n",
    "**Task**: group by ward (`WARD`) and police shift (`SHIFT`) and find the offense that is most common in that ward and shift"
   ]
  },
  {
   "cell_type": "code",
   "execution_count": 10,
   "metadata": {
    "collapsed": true
   },
   "outputs": [
    {
     "data": {
      "text/plain": [
       "WARD  SHIFT   \n",
       "1     DAY                        THEFT/OTHER\n",
       "      EVENING                    THEFT/OTHER\n",
       "      MIDNIGHT                   THEFT/OTHER\n",
       "2     DAY                        THEFT/OTHER\n",
       "      EVENING                    THEFT/OTHER\n",
       "      MIDNIGHT                   THEFT/OTHER\n",
       "3     DAY                        THEFT/OTHER\n",
       "      EVENING                    THEFT/OTHER\n",
       "      MIDNIGHT                   THEFT/OTHER\n",
       "4     DAY                       THEFT F/AUTO\n",
       "      EVENING                    THEFT/OTHER\n",
       "      MIDNIGHT                   THEFT/OTHER\n",
       "5     DAY                       THEFT F/AUTO\n",
       "      EVENING                    THEFT/OTHER\n",
       "      MIDNIGHT                   THEFT/OTHER\n",
       "6     DAY                        THEFT/OTHER\n",
       "      EVENING                    THEFT/OTHER\n",
       "      MIDNIGHT                   THEFT/OTHER\n",
       "7     DAY                       THEFT F/AUTO\n",
       "      EVENING                    THEFT/OTHER\n",
       "      MIDNIGHT                   THEFT/OTHER\n",
       "8     DAY                       THEFT F/AUTO\n",
       "      EVENING                    THEFT/OTHER\n",
       "      MIDNIGHT    ASSAULT W/DANGEROUS WEAPON\n",
       "Name: OFFENSE, dtype: object"
      ]
     },
     "execution_count": 10,
     "metadata": {},
     "output_type": "execute_result"
    }
   ],
   "source": [
    "df2 = df.groupby([\"WARD\",\"SHIFT\"])[\"OFFENSE\"].agg(\n",
    "#     lambda x: x.value_counts().idxmax())\n",
    "    lambda x: x.value_counts().index[0] )\n",
    "\n",
    "df2"
   ]
  },
  {
   "cell_type": "code",
   "execution_count": 11,
   "metadata": {
    "collapsed": true
   },
   "outputs": [
    {
     "data": {
      "text/html": [
       "<div>\n",
       "<style scoped>\n",
       "    .dataframe tbody tr th:only-of-type {\n",
       "        vertical-align: middle;\n",
       "    }\n",
       "\n",
       "    .dataframe tbody tr th {\n",
       "        vertical-align: top;\n",
       "    }\n",
       "\n",
       "    .dataframe thead th {\n",
       "        text-align: right;\n",
       "    }\n",
       "</style>\n",
       "<table border=\"1\" class=\"dataframe\">\n",
       "  <thead>\n",
       "    <tr style=\"text-align: right;\">\n",
       "      <th></th>\n",
       "      <th></th>\n",
       "      <th>OFFENSE</th>\n",
       "    </tr>\n",
       "    <tr>\n",
       "      <th>WARD</th>\n",
       "      <th>SHIFT</th>\n",
       "      <th></th>\n",
       "    </tr>\n",
       "  </thead>\n",
       "  <tbody>\n",
       "    <tr>\n",
       "      <th rowspan=\"3\" valign=\"top\">1</th>\n",
       "      <th>DAY</th>\n",
       "      <td>THEFT/OTHER</td>\n",
       "    </tr>\n",
       "    <tr>\n",
       "      <th>EVENING</th>\n",
       "      <td>THEFT/OTHER</td>\n",
       "    </tr>\n",
       "    <tr>\n",
       "      <th>MIDNIGHT</th>\n",
       "      <td>THEFT/OTHER</td>\n",
       "    </tr>\n",
       "    <tr>\n",
       "      <th rowspan=\"3\" valign=\"top\">2</th>\n",
       "      <th>DAY</th>\n",
       "      <td>THEFT/OTHER</td>\n",
       "    </tr>\n",
       "    <tr>\n",
       "      <th>EVENING</th>\n",
       "      <td>THEFT/OTHER</td>\n",
       "    </tr>\n",
       "    <tr>\n",
       "      <th>MIDNIGHT</th>\n",
       "      <td>THEFT/OTHER</td>\n",
       "    </tr>\n",
       "    <tr>\n",
       "      <th rowspan=\"3\" valign=\"top\">3</th>\n",
       "      <th>DAY</th>\n",
       "      <td>THEFT/OTHER</td>\n",
       "    </tr>\n",
       "    <tr>\n",
       "      <th>EVENING</th>\n",
       "      <td>THEFT/OTHER</td>\n",
       "    </tr>\n",
       "    <tr>\n",
       "      <th>MIDNIGHT</th>\n",
       "      <td>THEFT/OTHER</td>\n",
       "    </tr>\n",
       "    <tr>\n",
       "      <th rowspan=\"3\" valign=\"top\">4</th>\n",
       "      <th>DAY</th>\n",
       "      <td>THEFT/OTHER</td>\n",
       "    </tr>\n",
       "    <tr>\n",
       "      <th>EVENING</th>\n",
       "      <td>THEFT/OTHER</td>\n",
       "    </tr>\n",
       "    <tr>\n",
       "      <th>MIDNIGHT</th>\n",
       "      <td>THEFT/OTHER</td>\n",
       "    </tr>\n",
       "    <tr>\n",
       "      <th rowspan=\"3\" valign=\"top\">5</th>\n",
       "      <th>DAY</th>\n",
       "      <td>THEFT/OTHER</td>\n",
       "    </tr>\n",
       "    <tr>\n",
       "      <th>EVENING</th>\n",
       "      <td>THEFT/OTHER</td>\n",
       "    </tr>\n",
       "    <tr>\n",
       "      <th>MIDNIGHT</th>\n",
       "      <td>THEFT/OTHER</td>\n",
       "    </tr>\n",
       "    <tr>\n",
       "      <th rowspan=\"3\" valign=\"top\">6</th>\n",
       "      <th>DAY</th>\n",
       "      <td>THEFT/OTHER</td>\n",
       "    </tr>\n",
       "    <tr>\n",
       "      <th>EVENING</th>\n",
       "      <td>THEFT/OTHER</td>\n",
       "    </tr>\n",
       "    <tr>\n",
       "      <th>MIDNIGHT</th>\n",
       "      <td>THEFT/OTHER</td>\n",
       "    </tr>\n",
       "    <tr>\n",
       "      <th rowspan=\"3\" valign=\"top\">7</th>\n",
       "      <th>DAY</th>\n",
       "      <td>THEFT/OTHER</td>\n",
       "    </tr>\n",
       "    <tr>\n",
       "      <th>EVENING</th>\n",
       "      <td>THEFT/OTHER</td>\n",
       "    </tr>\n",
       "    <tr>\n",
       "      <th>MIDNIGHT</th>\n",
       "      <td>THEFT/OTHER</td>\n",
       "    </tr>\n",
       "    <tr>\n",
       "      <th rowspan=\"3\" valign=\"top\">8</th>\n",
       "      <th>DAY</th>\n",
       "      <td>THEFT/OTHER</td>\n",
       "    </tr>\n",
       "    <tr>\n",
       "      <th>EVENING</th>\n",
       "      <td>THEFT/OTHER</td>\n",
       "    </tr>\n",
       "    <tr>\n",
       "      <th>MIDNIGHT</th>\n",
       "      <td>THEFT/OTHER</td>\n",
       "    </tr>\n",
       "  </tbody>\n",
       "</table>\n",
       "</div>"
      ],
      "text/plain": [
       "                   OFFENSE\n",
       "WARD SHIFT                \n",
       "1    DAY       THEFT/OTHER\n",
       "     EVENING   THEFT/OTHER\n",
       "     MIDNIGHT  THEFT/OTHER\n",
       "2    DAY       THEFT/OTHER\n",
       "     EVENING   THEFT/OTHER\n",
       "     MIDNIGHT  THEFT/OTHER\n",
       "3    DAY       THEFT/OTHER\n",
       "     EVENING   THEFT/OTHER\n",
       "     MIDNIGHT  THEFT/OTHER\n",
       "4    DAY       THEFT/OTHER\n",
       "     EVENING   THEFT/OTHER\n",
       "     MIDNIGHT  THEFT/OTHER\n",
       "5    DAY       THEFT/OTHER\n",
       "     EVENING   THEFT/OTHER\n",
       "     MIDNIGHT  THEFT/OTHER\n",
       "6    DAY       THEFT/OTHER\n",
       "     EVENING   THEFT/OTHER\n",
       "     MIDNIGHT  THEFT/OTHER\n",
       "7    DAY       THEFT/OTHER\n",
       "     EVENING   THEFT/OTHER\n",
       "     MIDNIGHT  THEFT/OTHER\n",
       "8    DAY       THEFT/OTHER\n",
       "     EVENING   THEFT/OTHER\n",
       "     MIDNIGHT  THEFT/OTHER"
      ]
     },
     "execution_count": 11,
     "metadata": {},
     "output_type": "execute_result"
    }
   ],
   "source": [
    "df.groupby([\"WARD\", \"SHIFT\"]).agg({\"OFFENSE\" : \"max\"})"
   ]
  },
  {
   "cell_type": "code",
   "execution_count": 12,
   "metadata": {
    "collapsed": true
   },
   "outputs": [
    {
     "data": {
      "text/html": [
       "<div>\n",
       "<style scoped>\n",
       "    .dataframe tbody tr th:only-of-type {\n",
       "        vertical-align: middle;\n",
       "    }\n",
       "\n",
       "    .dataframe tbody tr th {\n",
       "        vertical-align: top;\n",
       "    }\n",
       "\n",
       "    .dataframe thead th {\n",
       "        text-align: right;\n",
       "    }\n",
       "</style>\n",
       "<table border=\"1\" class=\"dataframe\">\n",
       "  <thead>\n",
       "    <tr style=\"text-align: right;\">\n",
       "      <th></th>\n",
       "      <th></th>\n",
       "      <th>OFFENSE</th>\n",
       "    </tr>\n",
       "    <tr>\n",
       "      <th>WARD</th>\n",
       "      <th>SHIFT</th>\n",
       "      <th></th>\n",
       "    </tr>\n",
       "  </thead>\n",
       "  <tbody>\n",
       "    <tr>\n",
       "      <th rowspan=\"3\" valign=\"top\">1</th>\n",
       "      <th>DAY</th>\n",
       "      <td>THEFT/OTHER</td>\n",
       "    </tr>\n",
       "    <tr>\n",
       "      <th>EVENING</th>\n",
       "      <td>THEFT/OTHER</td>\n",
       "    </tr>\n",
       "    <tr>\n",
       "      <th>MIDNIGHT</th>\n",
       "      <td>THEFT/OTHER</td>\n",
       "    </tr>\n",
       "    <tr>\n",
       "      <th rowspan=\"3\" valign=\"top\">2</th>\n",
       "      <th>DAY</th>\n",
       "      <td>THEFT/OTHER</td>\n",
       "    </tr>\n",
       "    <tr>\n",
       "      <th>EVENING</th>\n",
       "      <td>THEFT/OTHER</td>\n",
       "    </tr>\n",
       "    <tr>\n",
       "      <th>MIDNIGHT</th>\n",
       "      <td>THEFT/OTHER</td>\n",
       "    </tr>\n",
       "    <tr>\n",
       "      <th rowspan=\"3\" valign=\"top\">3</th>\n",
       "      <th>DAY</th>\n",
       "      <td>THEFT/OTHER</td>\n",
       "    </tr>\n",
       "    <tr>\n",
       "      <th>EVENING</th>\n",
       "      <td>THEFT/OTHER</td>\n",
       "    </tr>\n",
       "    <tr>\n",
       "      <th>MIDNIGHT</th>\n",
       "      <td>THEFT/OTHER</td>\n",
       "    </tr>\n",
       "    <tr>\n",
       "      <th rowspan=\"3\" valign=\"top\">4</th>\n",
       "      <th>DAY</th>\n",
       "      <td>THEFT F/AUTO</td>\n",
       "    </tr>\n",
       "    <tr>\n",
       "      <th>EVENING</th>\n",
       "      <td>THEFT/OTHER</td>\n",
       "    </tr>\n",
       "    <tr>\n",
       "      <th>MIDNIGHT</th>\n",
       "      <td>THEFT/OTHER</td>\n",
       "    </tr>\n",
       "    <tr>\n",
       "      <th rowspan=\"3\" valign=\"top\">5</th>\n",
       "      <th>DAY</th>\n",
       "      <td>THEFT F/AUTO</td>\n",
       "    </tr>\n",
       "    <tr>\n",
       "      <th>EVENING</th>\n",
       "      <td>THEFT/OTHER</td>\n",
       "    </tr>\n",
       "    <tr>\n",
       "      <th>MIDNIGHT</th>\n",
       "      <td>THEFT/OTHER</td>\n",
       "    </tr>\n",
       "    <tr>\n",
       "      <th rowspan=\"3\" valign=\"top\">6</th>\n",
       "      <th>DAY</th>\n",
       "      <td>THEFT/OTHER</td>\n",
       "    </tr>\n",
       "    <tr>\n",
       "      <th>EVENING</th>\n",
       "      <td>THEFT/OTHER</td>\n",
       "    </tr>\n",
       "    <tr>\n",
       "      <th>MIDNIGHT</th>\n",
       "      <td>THEFT/OTHER</td>\n",
       "    </tr>\n",
       "    <tr>\n",
       "      <th rowspan=\"3\" valign=\"top\">7</th>\n",
       "      <th>DAY</th>\n",
       "      <td>THEFT F/AUTO</td>\n",
       "    </tr>\n",
       "    <tr>\n",
       "      <th>EVENING</th>\n",
       "      <td>THEFT/OTHER</td>\n",
       "    </tr>\n",
       "    <tr>\n",
       "      <th>MIDNIGHT</th>\n",
       "      <td>THEFT/OTHER</td>\n",
       "    </tr>\n",
       "    <tr>\n",
       "      <th rowspan=\"3\" valign=\"top\">8</th>\n",
       "      <th>DAY</th>\n",
       "      <td>THEFT F/AUTO</td>\n",
       "    </tr>\n",
       "    <tr>\n",
       "      <th>EVENING</th>\n",
       "      <td>THEFT/OTHER</td>\n",
       "    </tr>\n",
       "    <tr>\n",
       "      <th>MIDNIGHT</th>\n",
       "      <td>ASSAULT W/DANGEROUS WEAPON</td>\n",
       "    </tr>\n",
       "  </tbody>\n",
       "</table>\n",
       "</div>"
      ],
      "text/plain": [
       "                                  OFFENSE\n",
       "WARD SHIFT                               \n",
       "1    DAY                      THEFT/OTHER\n",
       "     EVENING                  THEFT/OTHER\n",
       "     MIDNIGHT                 THEFT/OTHER\n",
       "2    DAY                      THEFT/OTHER\n",
       "     EVENING                  THEFT/OTHER\n",
       "     MIDNIGHT                 THEFT/OTHER\n",
       "3    DAY                      THEFT/OTHER\n",
       "     EVENING                  THEFT/OTHER\n",
       "     MIDNIGHT                 THEFT/OTHER\n",
       "4    DAY                     THEFT F/AUTO\n",
       "     EVENING                  THEFT/OTHER\n",
       "     MIDNIGHT                 THEFT/OTHER\n",
       "5    DAY                     THEFT F/AUTO\n",
       "     EVENING                  THEFT/OTHER\n",
       "     MIDNIGHT                 THEFT/OTHER\n",
       "6    DAY                      THEFT/OTHER\n",
       "     EVENING                  THEFT/OTHER\n",
       "     MIDNIGHT                 THEFT/OTHER\n",
       "7    DAY                     THEFT F/AUTO\n",
       "     EVENING                  THEFT/OTHER\n",
       "     MIDNIGHT                 THEFT/OTHER\n",
       "8    DAY                     THEFT F/AUTO\n",
       "     EVENING                  THEFT/OTHER\n",
       "     MIDNIGHT  ASSAULT W/DANGEROUS WEAPON"
      ]
     },
     "execution_count": 12,
     "metadata": {},
     "output_type": "execute_result"
    }
   ],
   "source": [
    "df.groupby([\"WARD\", \"SHIFT\"]).agg(\n",
    "    {\"OFFENSE\" : lambda x: x.mode() }\n",
    "    )"
   ]
  },
  {
   "cell_type": "markdown",
   "metadata": {},
   "source": [
    "## Summarizing over all rows or all columns (without grouping)\n",
    "\n",
    "We can also use the `apply` function to summarize rows or columns efficiently"
   ]
  },
  {
   "cell_type": "markdown",
   "metadata": {},
   "source": [
    "**Task**: find the mean lat and longitude in one line of code"
   ]
  },
  {
   "cell_type": "code",
   "execution_count": null,
   "metadata": {},
   "outputs": [],
   "source": []
  },
  {
   "cell_type": "markdown",
   "metadata": {},
   "source": [
    "## 2. Creating new columns/transforming their type "
   ]
  },
  {
   "cell_type": "markdown",
   "metadata": {},
   "source": [
    "### Simple filtering\n",
    "\n",
    "`np.where` is in the numpy package (aliased as `np`) and operates similar to `ifelse` in R\n",
    "\n",
    "But there is a built in pandas way to emulate this.\n",
    "\n",
    "**Task**: create an indicator `is_theft` for any offense that contains the word \"THEFT\"\n",
    "    \n",
    "**Task**: create an indicator `is_theft_notmotor` for any offense that contains the word \"THEFT\" but does not contain the word \"MOTOR\""
   ]
  },
  {
   "cell_type": "code",
   "execution_count": 13,
   "metadata": {
    "collapsed": true
   },
   "outputs": [
    {
     "data": {
      "text/plain": [
       "0        THEFT F/AUTO\n",
       "2         THEFT/OTHER\n",
       "3         THEFT/OTHER\n",
       "4         THEFT/OTHER\n",
       "5        THEFT F/AUTO\n",
       "             ...     \n",
       "27926     THEFT/OTHER\n",
       "27927    THEFT F/AUTO\n",
       "27928     THEFT/OTHER\n",
       "27929     THEFT/OTHER\n",
       "27930    THEFT F/AUTO\n",
       "Name: OFFENSE, Length: 22469, dtype: object"
      ]
     },
     "execution_count": 13,
     "metadata": {},
     "output_type": "execute_result"
    },
    {
     "data": {
      "text/plain": [
       "0        THEFT F/AUTO\n",
       "2         THEFT/OTHER\n",
       "3         THEFT/OTHER\n",
       "4         THEFT/OTHER\n",
       "5        THEFT F/AUTO\n",
       "             ...     \n",
       "27926     THEFT/OTHER\n",
       "27927    THEFT F/AUTO\n",
       "27928     THEFT/OTHER\n",
       "27929     THEFT/OTHER\n",
       "27930    THEFT F/AUTO\n",
       "Name: OFFENSE, Length: 19210, dtype: object"
      ]
     },
     "execution_count": 13,
     "metadata": {},
     "output_type": "execute_result"
    }
   ],
   "source": [
    "is_theft = np.where(df[\"OFFENSE\"].str.contains(\"THEFT\"),True,False)\n",
    "df[is_theft].OFFENSE\n",
    "\n",
    "is_theft_notmotor = np.where(df[\"OFFENSE\"].str.contains(\"THEFT\")&~df[\"OFFENSE\"].str.contains(\"MOTOR\"),True,False)\n",
    "df[is_theft_notmotor].OFFENSE"
   ]
  },
  {
   "cell_type": "code",
   "execution_count": 14,
   "metadata": {},
   "outputs": [],
   "source": [
    "df[\"is_theft_notmotor\"] = np.where(df.OFFENSE.str.contains(\"THEFT\") &\n",
    "                                   ~df.OFFENSE.str.contains(\"MOTOR\"),\n",
    "                                   True, False)"
   ]
  },
  {
   "cell_type": "code",
   "execution_count": 15,
   "metadata": {},
   "outputs": [],
   "source": [
    "df[\"is_theft\"] = df.OFFENSE.str.contains(\"THEFT\")"
   ]
  },
  {
   "cell_type": "code",
   "execution_count": 16,
   "metadata": {},
   "outputs": [
    {
     "data": {
      "text/plain": [
       "array([ True, False,  True, ...,  True,  True,  True])"
      ]
     },
     "execution_count": 16,
     "metadata": {},
     "output_type": "execute_result"
    }
   ],
   "source": [
    "np.where(df[\"OFFENSE\"].str.contains(\"THEFT\"),True,False)"
   ]
  },
  {
   "cell_type": "code",
   "execution_count": 17,
   "metadata": {},
   "outputs": [
    {
     "data": {
      "text/plain": [
       "0         True\n",
       "1        False\n",
       "2         True\n",
       "3         True\n",
       "4         True\n",
       "         ...  \n",
       "27926     True\n",
       "27927     True\n",
       "27928     True\n",
       "27929     True\n",
       "27930     True\n",
       "Name: OFFENSE, Length: 27931, dtype: bool"
      ]
     },
     "execution_count": 17,
     "metadata": {},
     "output_type": "execute_result"
    }
   ],
   "source": [
    "df[\"OFFENSE\"].str.contains(\"THEFT\") & ~ df[\"OFFENSE\"].str.contains(\"MOTOR\")"
   ]
  },
  {
   "cell_type": "markdown",
   "metadata": {},
   "source": [
    "### np.select\n",
    "\n",
    "**Task**: create a new variable, `offense_summary`, where you:\n",
    "        \n",
    "- Recode theft offenses that use a gun or knife as the method (`METHOD`) as: violent theft\n",
    "- Recode non-theft offenses that use a gun or knife as the method as: violent other\n",
    "- Recode all other as non-violent "
   ]
  },
  {
   "cell_type": "code",
   "execution_count": 18,
   "metadata": {},
   "outputs": [
    {
     "data": {
      "text/plain": [
       "METHOD\n",
       "KNIFE    641\n",
       "Name: count, dtype: int64"
      ]
     },
     "execution_count": 18,
     "metadata": {},
     "output_type": "execute_result"
    }
   ],
   "source": [
    "df[ df.METHOD.str.contains(\"KNIFE\") ].METHOD.value_counts()"
   ]
  },
  {
   "cell_type": "code",
   "execution_count": 19,
   "metadata": {},
   "outputs": [
    {
     "name": "stdout",
     "output_type": "stream",
     "text": [
      "0          non-violent\n",
      "1        violent other\n",
      "2          non-violent\n",
      "3          non-violent\n",
      "4          non-violent\n",
      "             ...      \n",
      "27926      non-violent\n",
      "27927      non-violent\n",
      "27928      non-violent\n",
      "27929      non-violent\n",
      "27930      non-violent\n",
      "Name: offense_summary, Length: 27931, dtype: object\n"
     ]
    }
   ],
   "source": [
    "conditions = [\n",
    "    df[\"METHOD\"].isin([\"GUN\", \"KNIFE\"]) & df[\"OFFENSE\"] == \"THEFT\",\n",
    "    df[\"METHOD\"].isin([\"GUN\", \"KNIFE\"])\n",
    "]\n",
    "\n",
    "categories = [\"violent theft\", \"violent other\"]\n",
    "\n",
    "df[\"offense_summary\"] = np.select(conditions, categories, default=\"non-violent\")\n",
    "\n",
    "print(df[\"offense_summary\"])"
   ]
  },
  {
   "cell_type": "code",
   "execution_count": 20,
   "metadata": {},
   "outputs": [
    {
     "data": {
      "text/plain": [
       "0          non-violent\n",
       "1        violent other\n",
       "2          non-violent\n",
       "3          non-violent\n",
       "4          non-violent\n",
       "             ...      \n",
       "27926      non-violent\n",
       "27927      non-violent\n",
       "27928      non-violent\n",
       "27929      non-violent\n",
       "27930      non-violent\n",
       "Name: offense_summary, Length: 27931, dtype: object"
      ]
     },
     "execution_count": 20,
     "metadata": {},
     "output_type": "execute_result"
    }
   ],
   "source": [
    "uses_weapon = df['METHOD'].str.contains(r'gun|knife', case=False, na=False)\n",
    "\n",
    "categories = [\"violent theft\", \"violent other\"]\n",
    "\n",
    "offense_types = [\n",
    "    is_theft & uses_weapon,\n",
    "    ~is_theft & uses_weapon\n",
    "]\n",
    "\n",
    "df['offense_summary'] = np.select(offense_types, categories, default = \"non-violent\")\n",
    "df['offense_summary']"
   ]
  },
  {
   "cell_type": "code",
   "execution_count": 22,
   "metadata": {},
   "outputs": [],
   "source": [
    "category = [\"violent theft\",\"violent other\"]\n",
    "conditions = [\n",
    "    df[\"is_theft\"] & df[\"METHOD\"].isin([\"GUN\",\"KNIFE\"]),\n",
    "    ~df[\"is_theft\"] & df[\"METHOD\"].isin([\"GUN\",\"KNIFE\"])\n",
    "]\n",
    "\n",
    "df[\"offense_summary\"]=np.select(conditions, category, default=\"non-violent\")\n"
   ]
  },
  {
   "cell_type": "code",
   "execution_count": null,
   "metadata": {},
   "outputs": [],
   "source": []
  },
  {
   "cell_type": "markdown",
   "metadata": {},
   "source": [
    "### map.recode\n",
    "\n",
    "**Task**: recode shifts that are MIDNIGHT or EVENING as \"nighttime\"; code other shift to daytime"
   ]
  },
  {
   "cell_type": "code",
   "execution_count": null,
   "metadata": {},
   "outputs": [],
   "source": []
  },
  {
   "cell_type": "markdown",
   "metadata": {},
   "source": [
    "### Using built-in pandas methods\n",
    "\n",
    "Another way of creating variables, used either alone or in combination with np.where and np.select is to use pandas built in `str` methods\n",
    "\n",
    "Basic structure is: `df['namestringcol'].str.someoperation`"
   ]
  },
  {
   "cell_type": "markdown",
   "metadata": {},
   "source": [
    "**Task**: using a `str` method, create a new variable--`OFFENSE_NOSP`--that replaces spaces in the `OFFENSE` column with underscores"
   ]
  },
  {
   "cell_type": "code",
   "execution_count": null,
   "metadata": {},
   "outputs": [],
   "source": []
  },
  {
   "cell_type": "markdown",
   "metadata": {},
   "source": [
    "### Transforming column types\n",
    "\n",
    "**Task**: check the type of the `START_DATE` column"
   ]
  },
  {
   "cell_type": "code",
   "execution_count": null,
   "metadata": {},
   "outputs": [],
   "source": []
  },
  {
   "cell_type": "markdown",
   "metadata": {},
   "source": [
    "**Task**: recast the `START_DATE` column to datetime, calling this `START_DATE_CLEAN`; coerce errors rather than cleaning the string; check the type of that new col"
   ]
  },
  {
   "cell_type": "code",
   "execution_count": null,
   "metadata": {},
   "outputs": [],
   "source": []
  },
  {
   "cell_type": "markdown",
   "metadata": {},
   "source": [
    "**Task:** print the min and max of `START_DATE_CLEAN`. What happens if you try to do this with `START_DATE`?"
   ]
  },
  {
   "cell_type": "code",
   "execution_count": null,
   "metadata": {},
   "outputs": [],
   "source": []
  },
  {
   "cell_type": "markdown",
   "metadata": {},
   "source": [
    "## 3. Row and column filtering "
   ]
  },
  {
   "cell_type": "markdown",
   "metadata": {},
   "source": [
    "### Row subsetting\n",
    "\n",
    "**Task**: filter to crime reports about theft using the `is_theft` definition and that are in ward 3"
   ]
  },
  {
   "cell_type": "code",
   "execution_count": null,
   "metadata": {},
   "outputs": [],
   "source": []
  },
  {
   "cell_type": "markdown",
   "metadata": {},
   "source": [
    "### Column subsetting\n"
   ]
  },
  {
   "cell_type": "markdown",
   "metadata": {},
   "source": [
    "**Task**: select two columns--`START_DATE` and `END_DATE`--and print the head of the dataframe"
   ]
  },
  {
   "cell_type": "code",
   "execution_count": null,
   "metadata": {
    "scrolled": true
   },
   "outputs": [],
   "source": []
  },
  {
   "cell_type": "markdown",
   "metadata": {},
   "source": [
    "**Task**: use list comprehension to automate this a bit and select all columns with the word \"DATE\" in the name; print the head of the dataframe"
   ]
  },
  {
   "cell_type": "code",
   "execution_count": null,
   "metadata": {},
   "outputs": [],
   "source": []
  },
  {
   "cell_type": "markdown",
   "metadata": {},
   "source": [
    "**Task**: filter reports of crime in `START_DATE_CLEAN` before May 2020 and that are located in ward 1; select the ward and `START_DATE` column and print a random sample of rows"
   ]
  },
  {
   "cell_type": "code",
   "execution_count": null,
   "metadata": {},
   "outputs": [],
   "source": []
  }
 ],
 "metadata": {
  "kernelspec": {
   "display_name": "Python 3 (ipykernel)",
   "language": "python",
   "name": "python3"
  },
  "language_info": {
   "codemirror_mode": {
    "name": "ipython",
    "version": 3
   },
   "file_extension": ".py",
   "mimetype": "text/x-python",
   "name": "python",
   "nbconvert_exporter": "python",
   "pygments_lexer": "ipython3",
   "version": "3.9.12"
  }
 },
 "nbformat": 4,
 "nbformat_minor": 4
}
